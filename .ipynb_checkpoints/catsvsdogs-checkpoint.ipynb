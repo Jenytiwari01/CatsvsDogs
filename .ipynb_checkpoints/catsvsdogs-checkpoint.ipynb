{
 "cells": [
  {
   "cell_type": "code",
   "execution_count": 1,
   "id": "a80ce57e",
   "metadata": {},
   "outputs": [],
   "source": [
    "import numpy as np\n",
    "import cv2\n",
    "# pip install opencv-python\n",
    "# convert images into array\n",
    "import os \n",
    "# path locations\n",
    "import random\n",
    "import matplotlib.pyplot as plt\n",
    "# visualization\n",
    "import pickle\n",
    "# save the data\n",
    "\n",
    "\n"
   ]
  },
  {
   "cell_type": "code",
   "execution_count": 2,
   "id": "719d44e2",
   "metadata": {},
   "outputs": [],
   "source": [
    "DIRECTORY=r'C:\\Users\\Acer\\Desktop\\catsanddogsclassification\\dogscats\\train'\n",
    "CATEGORIES=['cat','dog']\n"
   ]
  },
  {
   "cell_type": "code",
   "execution_count": 12,
   "id": "fd31e0d4",
   "metadata": {},
   "outputs": [],
   "source": [
    "# read eavery image and convert it and save it to the list\n",
    "# tojoin the folder\n",
    "# less image size faster computation but not clear prediction\n",
    "IMG_SIZE=100\n",
    "data=[]\n",
    "\n",
    "for category in CATEGORIES:\n",
    "    folder=os.path.join(DIRECTORY, category)\n",
    "    label=CATEGORIES.index(category)\n",
    "#     print(folder) specific folder ma pugem\n",
    "# gives list of item\n",
    "    for img in os.listdir(folder):\n",
    "        img_path=os.path.join(folder, img)\n",
    "        img_arr=cv2.imread(img_path)\n",
    "        img_arr=cv2.resize(img_arr,(IMG_SIZE,IMG_SIZE))\n",
    "        data.append([img_arr,label])\n",
    "#         pass image with corresponding label to understand weather its a dog or cat\n",
    "#         lable to understand what is a cat and dog into 0 and 1\n",
    "#         image array should be resized\n",
    "#         plt.imshow(img_arr)\n",
    "#         break\n",
    "#         imshow shows the visual\n",
    "        \n",
    "#         print(img_path)\n",
    "#         break\n",
    "# now since we could achieve all the image we can convert it to array \n",
    "# alos we have to make sure images oare of same size\n"
   ]
  },
  {
   "cell_type": "code",
   "execution_count": 14,
   "id": "a747b894",
   "metadata": {},
   "outputs": [
    {
     "data": {
      "text/plain": [
       "23000"
      ]
     },
     "execution_count": 14,
     "metadata": {},
     "output_type": "execute_result"
    }
   ],
   "source": [
    "len(data)"
   ]
  },
  {
   "cell_type": "code",
   "execution_count": 15,
   "id": "f8126b07",
   "metadata": {},
   "outputs": [],
   "source": [
    "# shuffle the data so that cat and dog data set are mixed because we have provided serially\n",
    "random.shuffle(data)"
   ]
  },
  {
   "cell_type": "code",
   "execution_count": 18,
   "id": "64b6e904",
   "metadata": {},
   "outputs": [],
   "source": [
    "# data[0]\n",
    "# 1 is dog 0 is cat\n",
    "# iterate through data\n",
    "# x will get the arrays dimensions y will get the predication unit\n",
    "x=[]\n",
    "y=[]\n",
    "\n",
    "for features, labels in data:\n",
    "    x.append(features)\n",
    "    y.append(labels)"
   ]
  },
  {
   "cell_type": "code",
   "execution_count": 19,
   "id": "9eb150f4",
   "metadata": {},
   "outputs": [],
   "source": [
    "# convert x and \n",
    "# y into array\n",
    "x=np.array(x)\n",
    "y=np.array(y)"
   ]
  },
  {
   "cell_type": "code",
   "execution_count": 21,
   "id": "6e8a5342",
   "metadata": {},
   "outputs": [],
   "source": [
    "# save this to comouter\n",
    "pickle.dump(x,open('x.pkl','wb'))\n",
    "pickle.dump(y,open('y.pkl','wb'))\n",
    "# data preprocessing till here"
   ]
  },
  {
   "cell_type": "code",
   "execution_count": null,
   "id": "9fcd8a6f",
   "metadata": {},
   "outputs": [],
   "source": [
    "# create model using keras and tensorflowtrain the model\n"
   ]
  }
 ],
 "metadata": {
  "kernelspec": {
   "display_name": "Python 3 (ipykernel)",
   "language": "python",
   "name": "python3"
  },
  "language_info": {
   "codemirror_mode": {
    "name": "ipython",
    "version": 3
   },
   "file_extension": ".py",
   "mimetype": "text/x-python",
   "name": "python",
   "nbconvert_exporter": "python",
   "pygments_lexer": "ipython3",
   "version": "3.11.5"
  }
 },
 "nbformat": 4,
 "nbformat_minor": 5
}
